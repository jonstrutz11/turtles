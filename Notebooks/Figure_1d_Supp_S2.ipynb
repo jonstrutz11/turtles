{
 "cells": [
  {
   "cell_type": "markdown",
   "metadata": {},
   "source": [
    "# dNTP Frequency Charts for Figure 1\n",
    "Also, for supplementary figure S2 (Aitchison distance instead of frequency)\n",
    "## Import Modules"
   ]
  },
  {
   "cell_type": "code",
   "execution_count": 1,
   "metadata": {},
   "outputs": [],
   "source": [
    "import os\n",
    "import numpy as np\n",
    "import matplotlib.pyplot as plt\n",
    "import seaborn as sns\n",
    "import pandas as pd\n",
    "import matplotlib as mpl\n",
    "from scipy.stats import ttest_ind\n",
    "\n",
    "from turtles.turtles_utils import *"
   ]
  },
  {
   "cell_type": "markdown",
   "metadata": {},
   "source": [
    "## Set Filepaths"
   ]
  },
  {
   "cell_type": "code",
   "execution_count": 2,
   "metadata": {},
   "outputs": [],
   "source": [
    "#: Signal names\n",
    "signals = ['Ca', 'Co', 'Zn', 'Temp']\n",
    "\n",
    "#: Overall directory for TdT project data and analysis\n",
    "tdt_dir = '/mnt/c/Users/jonst/Box Sync/All_dNTP_Data/Data_and_Results/'\n",
    "\n",
    "#: Subdirectories of NGS runs\n",
    "data_dir = {}\n",
    "data_dir['Ca'] = tdt_dir + 'All_Data_Filtered_Trimmed/Ca_Controls/'\n",
    "data_dir['Co'] = tdt_dir + 'All_Data_Filtered_Trimmed/Co_01_paired_simple_cut/'\n",
    "data_dir['Zn'] = tdt_dir + 'All_Data_Filtered_Trimmed/Zn_Controls/'\n",
    "data_dir['Temp'] = tdt_dir + 'All_Data_Filtered_Trimmed/Temp_101_gt0/'\n",
    "\n",
    "#: Filename prefixes for 0 control conditions (Zn is mislabeled)\n",
    "zero_control_conds = {}\n",
    "zero_control_conds['Ca'] = ['NB_1MgTdTEnd-157462365',\n",
    "                            'NB_2MgTdTEnd-157471352',\n",
    "                            'NB_3MgTdTEnd-157460349',\n",
    "                            'NB_4MgTdTEnd-157478337',\n",
    "                            'NB_5MgTdTEnd-157474355',\n",
    "                            'NB_6MgTdTEnd-157471356',\n",
    "                            'NB_7MgTdTEnd-157469351']\n",
    "zero_control_conds['Co'] = ['Namita_23630_Mg_Col_T0_1-167005853',\n",
    "                            'Namita_23630_Mg_Col_T0_2-166999859',\n",
    "                            'Namita_23630_Mg_Col_T0_3-167009845']\n",
    "zero_control_conds['Zn'] = ['24755_Mg_2-215601402',\n",
    "                            '24755_Mg_3-215601397',\n",
    "                            '24755_ZnAc_1-215601398']\n",
    "zero_control_conds['Temp'] = ['A4-FLD0289-37-1hr-1-242370305',\n",
    "                              'A4-FLD0290-37-1h-2-242367356',\n",
    "                              'A4-FLD0291-37-1hr-3-242383179']\n",
    "\n",
    "#: Filename prefixes for 1 control conditions (Zn is mislabeled)\n",
    "one_control_conds = {}\n",
    "one_control_conds['Ca'] = ['NB_1CaTdTEnd-157464345',\n",
    "                           'NB_2CaTdTEnd-157461337',\n",
    "                           'NB_3CaTdTEnd-157467349',\n",
    "                           'NB_4CaTdTEnd-157478336',\n",
    "                           'NB_5CaTdTEnd-157471355',\n",
    "                           'NB_6CaTdTEnd-157466351',\n",
    "                           'NB_7CaTdTEnd-157467351']\n",
    "one_control_conds['Co'] = ['Namita_23630_Cobalt_Col_T0_1-167010847',\n",
    "                           'Namita_23630_Cobalt_Col_T0_2-166993853',\n",
    "                           'Namita_23630_Cobalt_Col_T0_3-166999858']\n",
    "one_control_conds['Zn'] = ['24755_ZnAc_2-215601399',\n",
    "                           '24755_ZnAc_3-215601401',\n",
    "                           '24755_No_TdT-215601400']\n",
    "one_control_conds['Temp'] = ['A4-FLD0301-20-1hr-1-242375258',\n",
    "                             'A4-FLD0302-20-1hr-2-242372261',\n",
    "                             'A4-FLD0303-20-1hr-3-242369283']\n",
    "\n",
    "#: suffix of R1 fastq file to read in each directory\n",
    "filename_end = 'trimmed.fq'\n",
    "\n",
    "#: Directory to save generated figures in - it gets created if not present already\n",
    "figure_dir = tdt_dir + '/%dNTP_Charts/'\n",
    "os.makedirs(os.path.dirname(figure_dir), exist_ok=True)"
   ]
  },
  {
   "cell_type": "markdown",
   "metadata": {},
   "source": [
    "## Load Sequences and Calculate Base Frequency"
   ]
  },
  {
   "cell_type": "code",
   "execution_count": null,
   "metadata": {
    "scrolled": false
   },
   "outputs": [
    {
     "name": "stdout",
     "output_type": "stream",
     "text": [
      "Loading NB_1CaTdTEnd-157464345\n",
      "Read 841185 sequences...\n",
      "\n",
      "Loading NB_1MgTdTEnd-157462365\n",
      "Read 795971 sequences...\n",
      "\n",
      "Loading NB_2CaTdTEnd-157461337\n",
      "Read 815608 sequences...\n",
      "\n",
      "Loading NB_2MgTdTEnd-157471352\n",
      "Read 843687 sequences...\n",
      "\n",
      "Loading NB_3CaTdTEnd-157467349\n",
      "Read 861134 sequences...\n",
      "\n",
      "Loading NB_3MgTdTEnd-157460349\n",
      "Read 831850 sequences...\n",
      "\n",
      "Loading NB_4CaTdTEnd-157478336\n",
      "Read 839897 sequences...\n",
      "\n",
      "Loading NB_4MgTdTEnd-157478337\n",
      "Read 824431 sequences...\n",
      "\n",
      "Loading NB_5CaTdTEnd-157471355\n",
      "Read 788042 sequences...\n",
      "\n",
      "Loading NB_5MgTdTEnd-157474355\n"
     ]
    }
   ],
   "source": [
    "pcts_dict = {}\n",
    "for signal in signals:\n",
    "    cond_text = zero_control_conds[signal] + one_control_conds[signal]\n",
    "    seqs_dict = read_seqs(data_dir[signal], filename_end=filename_end, cutoff=5.8,\n",
    "                          cond_text=cond_text)\n",
    "    pcts_dict[signal] = get_total_base_pcts(seqs_dict)"
   ]
  },
  {
   "cell_type": "markdown",
   "metadata": {},
   "source": [
    "## Choose Legend Labels for Plotting\n",
    "Basically, here I create a dict (condition_dict) to map messy filenames to more readable descriptions. I do this based on text in the filename (condition)."
   ]
  },
  {
   "cell_type": "code",
   "execution_count": null,
   "metadata": {},
   "outputs": [],
   "source": [
    "condition_dict = {signal: {} for signal in signals}\n",
    "\n",
    "# Ca\n",
    "for condition in pcts_dict['Ca']:\n",
    "    if 'CaTdTEnd' in condition:\n",
    "        condition_dict['Ca'][condition] = 'Mg+Ca Control'\n",
    "    elif 'MgTdTEnd' in condition:\n",
    "        condition_dict['Ca'][condition] = 'Mg Control (Ca)'\n",
    "    else:\n",
    "        print('Error: {} not recognized'.format(condition))\n",
    "\n",
    "# Co\n",
    "for condition in pcts_dict['Co']:\n",
    "    if 'Cobalt_Col_T0' in condition:\n",
    "        condition_dict['Co'][condition] = 'Mg+Co Control'\n",
    "    elif 'Mg_Col_T0' in condition:\n",
    "        condition_dict['Co'][condition] = 'Mg Control (Co)'\n",
    "    else:\n",
    "        print('Error: {} not recognized'.format(condition))\n",
    "\n",
    "# Zn\n",
    "for condition in pcts_dict['Zn']:\n",
    "    if '_ZnAc_2' in condition or '_ZnAc_3' in condition or '_No_TdT' in condition:\n",
    "        condition_dict['Zn'][condition] = 'Mg+Zn Control'\n",
    "    elif '_Mg_2' in condition or '_Mg_3' in condition or '_ZnAc_1' in condition:\n",
    "        condition_dict['Zn'][condition] = 'Mg Control (Zn)'\n",
    "    else:\n",
    "        print('Error: {} not recognized'.format(condition))\n",
    "\n",
    "# Temp\n",
    "for condition in pcts_dict['Temp']:\n",
    "    if '37-1h' in condition:\n",
    "        condition_dict['Temp'][condition] = '37C Control'\n",
    "    elif '20-1hr' in condition:\n",
    "        condition_dict['Temp'][condition] = '20C Control'\n",
    "    else:\n",
    "        print('Error: {} not recognized'.format(condition))"
   ]
  },
  {
   "cell_type": "markdown",
   "metadata": {},
   "source": [
    "## Plot dNTP Frequency for Each Condition\n",
    "### Choose colors"
   ]
  },
  {
   "cell_type": "code",
   "execution_count": null,
   "metadata": {},
   "outputs": [],
   "source": [
    "sns.set(style='white', font='times-new-roman', font_scale=3, rc={'lines.linewidth': 5})\n",
    "color_palette = sns.color_palette([[76/255, 114/255, 176/255, 1],\n",
    "                                   [85/255, 168/255, 104/255, 1],\n",
    "                                   [199/255, 87/255, 91/255, 1],\n",
    "                                   [129/255, 114/255, 178/255, 1]],\n",
    "                                  n_colors=4)\n",
    "sns.palplot(color_palette)"
   ]
  },
  {
   "cell_type": "markdown",
   "metadata": {},
   "source": [
    "### Calculate bar height and error values"
   ]
  },
  {
   "cell_type": "code",
   "execution_count": null,
   "metadata": {},
   "outputs": [],
   "source": [
    "bases = ['A', 'C', 'G', 'T']\n",
    "\n",
    "heights = {signal: [] for signal in signals}\n",
    "yerr = {signal: [] for signal in signals}\n",
    "\n",
    "for signal in signals:\n",
    "\n",
    "    group0 = {base: [] for base in bases}\n",
    "    group1 = {base: [] for base in bases}\n",
    "\n",
    "    for condition in pcts_dict[signal]:\n",
    "        for base in bases:\n",
    "            if condition in zero_control_conds[signal]:\n",
    "                group0[base].append(pcts_dict[signal][condition][base])\n",
    "            elif condition in one_control_conds[signal]:\n",
    "                group1[base].append(pcts_dict[signal][condition][base])\n",
    "\n",
    "    for base in bases:\n",
    "\n",
    "        mean0 = np.mean(group0[base])\n",
    "        std0 = np.std(group0[base])\n",
    "\n",
    "        mean1 = np.mean(group1[base])\n",
    "        std1 = np.std(group1[base])\n",
    "        \n",
    "        diff = mean1 - mean0\n",
    "        std = np.sqrt(std0 ** 2 + std1 ** 2)\n",
    "        \n",
    "        # heights and yerr values are in same order as bases\n",
    "        heights[signal].append(diff)\n",
    "        yerr[signal].append(std * 2)"
   ]
  },
  {
   "cell_type": "markdown",
   "metadata": {},
   "source": [
    "### Plot bar charts for dNTP frequency\n",
    "Note: in paper, the first two plots were switched to make Co first, since in the paper we mostly focus on Co."
   ]
  },
  {
   "cell_type": "code",
   "execution_count": null,
   "metadata": {
    "scrolled": true
   },
   "outputs": [],
   "source": [
    "heights"
   ]
  },
  {
   "cell_type": "code",
   "execution_count": null,
   "metadata": {
    "scrolled": false
   },
   "outputs": [],
   "source": [
    "fig, axmatrix = plt.subplots(ncols=4, figsize=(30, 8), sharey=True)\n",
    "\n",
    "for i, signal in enumerate(signals):\n",
    "    ax = axmatrix[i]\n",
    "    \n",
    "    ax.spines['top'].set_visible(False)\n",
    "    ax.spines['right'].set_visible(False)\n",
    "    ax.tick_params(labelleft=True, left=True, bottom=True)\n",
    "\n",
    "    ax.bar(x=['A', 'C', 'G', 'T'], height=heights[signal], yerr=yerr[signal], color=color_palette)\n",
    "    \n",
    "    ax.set_ylim(-.1, .15)\n",
    "    ax.set_yticks(np.arange(-.10, 0.151, .05))\n",
    "    \n",
    "    if signal == 'Temp':\n",
    "        ax.set_title('0: 37' + r'$\\degree$' + 'C    1: 20' + r'$\\degree$' + 'C', fontsize=44,\n",
    "                     pad=40)\n",
    "    else:\n",
    "        ax.set_title('0: Mg    1: Mg+{}'.format(signal), fontsize=40, pad=40)\n",
    "        \n",
    "    ax.axhline(0, c='.7', ls='--')\n",
    "\n",
    "fig.tight_layout()\n",
    "fig.savefig(figure_dir + 'dNTP_incorporation_barchart_Summary_Final', bbox_inches='tight')\n",
    "fig.savefig(figure_dir + 'dNTP_incorporation_barchart_Summary_Final.svg', bbox_inches='tight')"
   ]
  },
  {
   "cell_type": "markdown",
   "metadata": {},
   "source": [
    "## Replot in Aitchison Space\n",
    "Supplemental Figure 2\n",
    "### Transform Percents into Aitchison Space"
   ]
  },
  {
   "cell_type": "code",
   "execution_count": null,
   "metadata": {},
   "outputs": [],
   "source": [
    "pcts_dict[signal]"
   ]
  },
  {
   "cell_type": "code",
   "execution_count": null,
   "metadata": {},
   "outputs": [],
   "source": [
    "from turtles.turtles_utils import calc_aitchison_distance\n",
    "clr_data = {}\n",
    "for signal in signals:\n",
    "    clr_data[signal] = calc_aitchison_distance(pcts_dict[signal])"
   ]
  },
  {
   "cell_type": "markdown",
   "metadata": {},
   "source": [
    "### Calculate bar height and error values\n",
    "Also, do t-test to test for significance between 0 and 1 conditions"
   ]
  },
  {
   "cell_type": "code",
   "execution_count": 48,
   "metadata": {},
   "outputs": [],
   "source": [
    "bases = ['A', 'C', 'G', 'T']\n",
    "\n",
    "heights = {signal: [] for signal in signals}\n",
    "yerr = {signal: [] for signal in signals}\n",
    "\n",
    "pvals = {}\n",
    "\n",
    "for signal in signals:\n",
    "\n",
    "    group0 = {base: [] for base in bases}\n",
    "    group1 = {base: [] for base in bases}\n",
    "    pvals[signal] = []\n",
    "\n",
    "    for condition in condition_dict[signal]:\n",
    "        for base in bases:\n",
    "            if condition in zero_control_conds[signal]:\n",
    "                group0[base].append(clr_data[signal][condition][base])\n",
    "            elif condition in one_control_conds[signal]:\n",
    "                group1[base].append(clr_data[signal][condition][base])\n",
    "\n",
    "    for base in bases:\n",
    "        mean0 = np.mean(group0[base])\n",
    "        std0 = np.std(group0[base])\n",
    "        mean1 = np.mean(group1[base])\n",
    "        std1 = np.std(group1[base])\n",
    "\n",
    "        pvals[signal].append(ttest_ind(group0[base], group1[base])[1])\n",
    "\n",
    "        diff = mean1 - mean0\n",
    "        std = np.sqrt(std0 ** 2 + std1 ** 2)\n",
    "\n",
    "        heights[signal].append(diff)\n",
    "        yerr[signal].append(std * 2)"
   ]
  },
  {
   "cell_type": "markdown",
   "metadata": {},
   "source": [
    "### Plot bar charts for Aitchison distance"
   ]
  },
  {
   "cell_type": "code",
   "execution_count": 50,
   "metadata": {},
   "outputs": [
    {
     "data": {
      "image/png": "[encoded data removed]",
      "text/plain": [
       "<Figure size 2160x576 with 4 Axes>"
      ]
     },
     "metadata": {},
     "output_type": "display_data"
    }
   ],
   "source": [
    "fig, axmatrix = plt.subplots(ncols=4, figsize=(30, 8), sharey=True)\n",
    "alpha = 0.01\n",
    "\n",
    "for i, signal in enumerate(signals):\n",
    "    ax = axmatrix[i]\n",
    "    \n",
    "    ax.spines['top'].set_visible(False)\n",
    "    ax.spines['right'].set_visible(False)\n",
    "    ax.tick_params(labelleft=True, left=True, bottom=True)\n",
    "\n",
    "    ax.bar(x=['A', 'C', 'G', 'T'], height=heights[signal], yerr=yerr[signal], color=color_palette)\n",
    "    \n",
    "    if signal == 'Temp':\n",
    "        ax.set_title('0: 37' + r'$\\degree$' + 'C    1: 20' + r'$\\degree$' + 'C', fontsize=44,\n",
    "                     pad=40)\n",
    "    else:\n",
    "        ax.set_title('0: Mg    1: Mg+{}'.format(signal), fontsize=40, pad=40)\n",
    "    \n",
    "    ax.axhline(0, c='.7', ls='--')\n",
    "    \n",
    "    for i in range(len(bases)):\n",
    "        if pvals[signal][i] < alpha:\n",
    "            if heights[signal][i] > 0:\n",
    "                ax.text(s='*', x=i, y=(heights[signal][i] + .03), ha='center')\n",
    "            else:\n",
    "                ax.text(s='*', x=i, y=(heights[signal][i] - .09), ha='center')\n",
    "    \n",
    "    ax.set_ylim(-.3, .6)\n",
    "    \n",
    "fig.tight_layout()\n",
    "fig.savefig(figure_dir + 'dNTP_incorporation_transformed_barchart_Summary_Final', bbox_inches='tight')\n",
    "fig.savefig(figure_dir + 'dNTP_incorporation_barchart_Summary_Final.svg', bbox_inches='tight')"
   ]
  },
  {
   "cell_type": "code",
   "execution_count": null,
   "metadata": {},
   "outputs": [],
   "source": []
  }
 ],
 "metadata": {
  "kernelspec": {
   "display_name": "Python (turtles)",
   "language": "python",
   "name": "turtles"
  },
  "language_info": {
   "codemirror_mode": {
    "name": "ipython",
    "version": 3
   },
   "file_extension": ".py",
   "mimetype": "text/x-python",
   "name": "python",
   "nbconvert_exporter": "python",
   "pygments_lexer": "ipython3",
   "version": "3.9.4"
  }
 },
 "nbformat": 4,
 "nbformat_minor": 2
}
